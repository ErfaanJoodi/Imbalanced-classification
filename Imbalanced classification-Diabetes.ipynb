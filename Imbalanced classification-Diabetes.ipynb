{
 "cells": [
  {
   "cell_type": "markdown",
   "metadata": {},
   "source": [
    "# Hi :)"
   ]
  },
  {
   "cell_type": "markdown",
   "metadata": {},
   "source": [
    "----"
   ]
  },
  {
   "cell_type": "markdown",
   "metadata": {},
   "source": [
    "# Import libraries"
   ]
  },
  {
   "cell_type": "code",
   "execution_count": 1,
   "metadata": {},
   "outputs": [],
   "source": [
    "import numpy as np\n",
    "import pandas as pd\n",
    "import matplotlib.pyplot as plt\n",
    "import seaborn as sns\n",
    "from sklearn.svm import SVC\n",
    "from sklearn.model_selection import train_test_split\n",
    "from sklearn.metrics import accuracy_score, f1_score\n",
    "from imblearn.over_sampling import SMOTE, ADASYN"
   ]
  },
  {
   "cell_type": "markdown",
   "metadata": {},
   "source": [
    "# Dataset"
   ]
  },
  {
   "cell_type": "code",
   "execution_count": 2,
   "metadata": {},
   "outputs": [
    {
     "data": {
      "text/html": [
       "<div>\n",
       "<style scoped>\n",
       "    .dataframe tbody tr th:only-of-type {\n",
       "        vertical-align: middle;\n",
       "    }\n",
       "\n",
       "    .dataframe tbody tr th {\n",
       "        vertical-align: top;\n",
       "    }\n",
       "\n",
       "    .dataframe thead th {\n",
       "        text-align: right;\n",
       "    }\n",
       "</style>\n",
       "<table border=\"1\" class=\"dataframe\">\n",
       "  <thead>\n",
       "    <tr style=\"text-align: right;\">\n",
       "      <th></th>\n",
       "      <th>Pregnancies</th>\n",
       "      <th>Glucose</th>\n",
       "      <th>BloodPressure</th>\n",
       "      <th>SkinThickness</th>\n",
       "      <th>Insulin</th>\n",
       "      <th>BMI</th>\n",
       "      <th>DiabetesPedigreeFunction</th>\n",
       "      <th>Age</th>\n",
       "      <th>Outcome</th>\n",
       "    </tr>\n",
       "  </thead>\n",
       "  <tbody>\n",
       "    <tr>\n",
       "      <th>0</th>\n",
       "      <td>6</td>\n",
       "      <td>148</td>\n",
       "      <td>72</td>\n",
       "      <td>35</td>\n",
       "      <td>0</td>\n",
       "      <td>33.6</td>\n",
       "      <td>0.627</td>\n",
       "      <td>50</td>\n",
       "      <td>1</td>\n",
       "    </tr>\n",
       "    <tr>\n",
       "      <th>1</th>\n",
       "      <td>1</td>\n",
       "      <td>85</td>\n",
       "      <td>66</td>\n",
       "      <td>29</td>\n",
       "      <td>0</td>\n",
       "      <td>26.6</td>\n",
       "      <td>0.351</td>\n",
       "      <td>31</td>\n",
       "      <td>0</td>\n",
       "    </tr>\n",
       "    <tr>\n",
       "      <th>2</th>\n",
       "      <td>8</td>\n",
       "      <td>183</td>\n",
       "      <td>64</td>\n",
       "      <td>0</td>\n",
       "      <td>0</td>\n",
       "      <td>23.3</td>\n",
       "      <td>0.672</td>\n",
       "      <td>32</td>\n",
       "      <td>1</td>\n",
       "    </tr>\n",
       "    <tr>\n",
       "      <th>3</th>\n",
       "      <td>1</td>\n",
       "      <td>89</td>\n",
       "      <td>66</td>\n",
       "      <td>23</td>\n",
       "      <td>94</td>\n",
       "      <td>28.1</td>\n",
       "      <td>0.167</td>\n",
       "      <td>21</td>\n",
       "      <td>0</td>\n",
       "    </tr>\n",
       "    <tr>\n",
       "      <th>4</th>\n",
       "      <td>0</td>\n",
       "      <td>137</td>\n",
       "      <td>40</td>\n",
       "      <td>35</td>\n",
       "      <td>168</td>\n",
       "      <td>43.1</td>\n",
       "      <td>2.288</td>\n",
       "      <td>33</td>\n",
       "      <td>1</td>\n",
       "    </tr>\n",
       "  </tbody>\n",
       "</table>\n",
       "</div>"
      ],
      "text/plain": [
       "   Pregnancies  Glucose  BloodPressure  SkinThickness  Insulin   BMI  \\\n",
       "0            6      148             72             35        0  33.6   \n",
       "1            1       85             66             29        0  26.6   \n",
       "2            8      183             64              0        0  23.3   \n",
       "3            1       89             66             23       94  28.1   \n",
       "4            0      137             40             35      168  43.1   \n",
       "\n",
       "   DiabetesPedigreeFunction  Age  Outcome  \n",
       "0                     0.627   50        1  \n",
       "1                     0.351   31        0  \n",
       "2                     0.672   32        1  \n",
       "3                     0.167   21        0  \n",
       "4                     2.288   33        1  "
      ]
     },
     "execution_count": 2,
     "metadata": {},
     "output_type": "execute_result"
    }
   ],
   "source": [
    "original_dataset= pd.read_csv('diabetes.csv')\n",
    "dataset= original_dataset.copy()\n",
    "dataset.head()"
   ]
  },
  {
   "cell_type": "markdown",
   "metadata": {},
   "source": [
    "# Preprocessing"
   ]
  },
  {
   "cell_type": "code",
   "execution_count": 3,
   "metadata": {},
   "outputs": [
    {
     "name": "stderr",
     "output_type": "stream",
     "text": [
      "C:\\Users\\Erfaan_Joodi\\AppData\\Local\\Temp\\ipykernel_7552\\2596931066.py:8: FutureWarning: The default of observed=False is deprecated and will be changed to True in a future version of pandas. Pass observed=False to retain current behavior or observed=True to adopt the future default and silence this warning.\n",
      "  mean_NaN= dataset.groupby(by= ['Outcome', 'Age-name'])[numerical_columns[1 : 6]].mean().reset_index()\n"
     ]
    },
    {
     "data": {
      "text/html": [
       "<div>\n",
       "<style scoped>\n",
       "    .dataframe tbody tr th:only-of-type {\n",
       "        vertical-align: middle;\n",
       "    }\n",
       "\n",
       "    .dataframe tbody tr th {\n",
       "        vertical-align: top;\n",
       "    }\n",
       "\n",
       "    .dataframe thead th {\n",
       "        text-align: right;\n",
       "    }\n",
       "</style>\n",
       "<table border=\"1\" class=\"dataframe\">\n",
       "  <thead>\n",
       "    <tr style=\"text-align: right;\">\n",
       "      <th></th>\n",
       "      <th>Pregnancies</th>\n",
       "      <th>Glucose</th>\n",
       "      <th>BloodPressure</th>\n",
       "      <th>SkinThickness</th>\n",
       "      <th>Insulin</th>\n",
       "      <th>BMI</th>\n",
       "      <th>DiabetesPedigreeFunction</th>\n",
       "      <th>Age</th>\n",
       "      <th>Outcome</th>\n",
       "      <th>Age-name</th>\n",
       "    </tr>\n",
       "  </thead>\n",
       "  <tbody>\n",
       "    <tr>\n",
       "      <th>0</th>\n",
       "      <td>6</td>\n",
       "      <td>148.0</td>\n",
       "      <td>72.0</td>\n",
       "      <td>35.0</td>\n",
       "      <td>261.0</td>\n",
       "      <td>33.6</td>\n",
       "      <td>0.627</td>\n",
       "      <td>50</td>\n",
       "      <td>1</td>\n",
       "      <td>old</td>\n",
       "    </tr>\n",
       "    <tr>\n",
       "      <th>1</th>\n",
       "      <td>1</td>\n",
       "      <td>85.0</td>\n",
       "      <td>66.0</td>\n",
       "      <td>29.0</td>\n",
       "      <td>131.0</td>\n",
       "      <td>26.6</td>\n",
       "      <td>0.351</td>\n",
       "      <td>31</td>\n",
       "      <td>0</td>\n",
       "      <td>young</td>\n",
       "    </tr>\n",
       "    <tr>\n",
       "      <th>2</th>\n",
       "      <td>8</td>\n",
       "      <td>183.0</td>\n",
       "      <td>64.0</td>\n",
       "      <td>33.0</td>\n",
       "      <td>192.0</td>\n",
       "      <td>23.3</td>\n",
       "      <td>0.672</td>\n",
       "      <td>32</td>\n",
       "      <td>1</td>\n",
       "      <td>young</td>\n",
       "    </tr>\n",
       "    <tr>\n",
       "      <th>3</th>\n",
       "      <td>1</td>\n",
       "      <td>89.0</td>\n",
       "      <td>66.0</td>\n",
       "      <td>23.0</td>\n",
       "      <td>94.0</td>\n",
       "      <td>28.1</td>\n",
       "      <td>0.167</td>\n",
       "      <td>21</td>\n",
       "      <td>0</td>\n",
       "      <td>young</td>\n",
       "    </tr>\n",
       "    <tr>\n",
       "      <th>4</th>\n",
       "      <td>0</td>\n",
       "      <td>137.0</td>\n",
       "      <td>40.0</td>\n",
       "      <td>35.0</td>\n",
       "      <td>168.0</td>\n",
       "      <td>43.1</td>\n",
       "      <td>2.288</td>\n",
       "      <td>33</td>\n",
       "      <td>1</td>\n",
       "      <td>young</td>\n",
       "    </tr>\n",
       "  </tbody>\n",
       "</table>\n",
       "</div>"
      ],
      "text/plain": [
       "   Pregnancies  Glucose  BloodPressure  SkinThickness  Insulin   BMI  \\\n",
       "0            6    148.0           72.0           35.0    261.0  33.6   \n",
       "1            1     85.0           66.0           29.0    131.0  26.6   \n",
       "2            8    183.0           64.0           33.0    192.0  23.3   \n",
       "3            1     89.0           66.0           23.0     94.0  28.1   \n",
       "4            0    137.0           40.0           35.0    168.0  43.1   \n",
       "\n",
       "   DiabetesPedigreeFunction  Age  Outcome Age-name  \n",
       "0                     0.627   50        1      old  \n",
       "1                     0.351   31        0    young  \n",
       "2                     0.672   32        1    young  \n",
       "3                     0.167   21        0    young  \n",
       "4                     2.288   33        1    young  "
      ]
     },
     "execution_count": 3,
     "metadata": {},
     "output_type": "execute_result"
    }
   ],
   "source": [
    "numerical_columns= dataset.describe().columns.to_list()\n",
    "dataset['Glucose']= dataset['Glucose'].apply(lambda x: np.nan if x == 0 else x)\n",
    "dataset['BloodPressure']= dataset['BloodPressure'].apply(lambda x: np.nan if x == 0 else x)\n",
    "dataset['SkinThickness']= dataset['SkinThickness'].apply(lambda x: np.nan if x == 0 else x)\n",
    "dataset['Insulin']= dataset['Insulin'].apply(lambda x: np.nan if x == 0 else x)\n",
    "dataset['BMI']= dataset['BMI'].apply(lambda x: np.nan if x == 0 else x)\n",
    "dataset['Age-name']= pd.cut(dataset['Age'], bins= [0, 13, 18, 34, 44, 200], labels= ['child', 'teenager', 'young', 'mid', 'old'])\n",
    "mean_NaN= dataset.groupby(by= ['Outcome', 'Age-name'])[numerical_columns[1 : 6]].mean().reset_index()\n",
    "for column_name in numerical_columns[1 : 5]:\n",
    "    mean_NaN[column_name]= mean_NaN[column_name].apply(lambda x : int(x) if str(x) != 'nan' else x)\n",
    "def filling_NaN(data):\n",
    "    column_name= data.name\n",
    "    i= 0\n",
    "    new_data= []\n",
    "    for value in data:\n",
    "        if str(value) != 'nan':\n",
    "            new_data.append(value)\n",
    "        else:\n",
    "            Age_name= dataset.iloc[i]['Age-name']\n",
    "            Outcome= dataset.iloc[i]['Outcome']\n",
    "            new_value= mean_NaN[(mean_NaN['Age-name'] == Age_name) & (mean_NaN['Outcome'] == Outcome)][column_name].values[0]\n",
    "            new_data.append(new_value)\n",
    "        i= i + 1\n",
    "    return new_data\n",
    "for column_name in numerical_columns[1 : 6]:\n",
    "    dataset[column_name]= filling_NaN(dataset[column_name])\n",
    "dataset.head()"
   ]
  },
  {
   "cell_type": "markdown",
   "metadata": {},
   "source": [
    "# Classification"
   ]
  },
  {
   "cell_type": "markdown",
   "metadata": {},
   "source": [
    "RBF"
   ]
  },
  {
   "cell_type": "code",
   "execution_count": 4,
   "metadata": {},
   "outputs": [],
   "source": [
    "def rbf(dataset, original_dataset):\n",
    "    _, X_test, _, Y_test= train_test_split(original_dataset.drop(columns= ['Age-name', 'Outcome']), original_dataset['Outcome'], test_size= 0.28, stratify= original_dataset['Outcome'], random_state= 48)\n",
    "    y_labels= sorted(dataset['Outcome'].value_counts().unique().tolist())\n",
    "    plt.style.use('fivethirtyeight')\n",
    "    fig, ax= plt.subplots(figsize= (4, 3), dpi= 148)\n",
    "    ax.bar(dataset.groupby(['Outcome'])['Outcome'].count().index, dataset.groupby(['Outcome'])['Outcome'].count().values, width= 0.28, alpha= 0.84)\n",
    "    ax.set_xticks([0, 1])\n",
    "    ax.set_xticklabels([\"-\", \"+\"], fontsize= 10)\n",
    "    ax.set_yticks(y_labels)\n",
    "    ax.set_yticklabels(y_labels, fontsize= 8)\n",
    "    ax.set_title('\"The count of person that has diabete\"', fontsize= 10);\n",
    "    X_train, Y_train= dataset.drop(columns= ['Age-name', 'Outcome']), dataset['Outcome']\n",
    "    rbf_svm= SVC(kernel='rbf', C=1, gamma=0.001)\n",
    "    rbf_svm.fit(X_train, Y_train)\n",
    "    Y_pred_train= rbf_svm.predict(X_train)\n",
    "    accuracy_train= accuracy_score(Y_train, Y_pred_train)\n",
    "    f1_train= f1_score(Y_train, Y_pred_train)\n",
    "    print(f\"Accuracy of RBF SVM (C=1, gamma=0.001)(Train): {accuracy_train:.4f}\")\n",
    "    print(f\"F1-Score of RBF SVM (C=1, gamma=0.001)(Train): {f1_train:.4f}\")\n",
    "    Y_pred_test= rbf_svm.predict(X_test)\n",
    "    accuracy_test= accuracy_score(Y_test, Y_pred_test)\n",
    "    f1_test= f1_score(Y_test, Y_pred_test)\n",
    "    print(f\"Accuracy of RBF SVM (C=1, gamma=0.001)(Test): {accuracy_test:.4f}\")\n",
    "    print(f\"F1-Score of RBF SVM (C=1, gamma=0.001)(Test): {f1_test:.4f}\")\n",
    "    return accuracy_train, accuracy_test, f1_train, f1_test"
   ]
  },
  {
   "cell_type": "code",
   "execution_count": 5,
   "metadata": {},
   "outputs": [
    {
     "name": "stdout",
     "output_type": "stream",
     "text": [
      "Accuracy of RBF SVM (C=1, gamma=0.001)(Train): 0.9180\n",
      "F1-Score of RBF SVM (C=1, gamma=0.001)(Train): 0.8791\n",
      "Accuracy of RBF SVM (C=1, gamma=0.001)(Test): 0.9259\n",
      "F1-Score of RBF SVM (C=1, gamma=0.001)(Test): 0.8904\n"
     ]
    },
    {
     "data": {
      "image/png": "[encoded data removed]",
      "text/plain": [
       "<Figure size 592x444 with 1 Axes>"
      ]
     },
     "metadata": {},
     "output_type": "display_data"
    }
   ],
   "source": [
    "dataset_accuracy_train, dataset_accuracy_test, dataset_f1_train, dataset_f1_test= rbf(dataset, dataset)"
   ]
  },
  {
   "cell_type": "markdown",
   "metadata": {},
   "source": [
    "balancing the dataset"
   ]
  },
  {
   "cell_type": "code",
   "execution_count": 6,
   "metadata": {},
   "outputs": [
    {
     "data": {
      "text/html": [
       "<div>\n",
       "<style scoped>\n",
       "    .dataframe tbody tr th:only-of-type {\n",
       "        vertical-align: middle;\n",
       "    }\n",
       "\n",
       "    .dataframe tbody tr th {\n",
       "        vertical-align: top;\n",
       "    }\n",
       "\n",
       "    .dataframe thead th {\n",
       "        text-align: right;\n",
       "    }\n",
       "</style>\n",
       "<table border=\"1\" class=\"dataframe\">\n",
       "  <thead>\n",
       "    <tr style=\"text-align: right;\">\n",
       "      <th></th>\n",
       "      <th>Pregnancies</th>\n",
       "      <th>Glucose</th>\n",
       "      <th>BloodPressure</th>\n",
       "      <th>SkinThickness</th>\n",
       "      <th>Insulin</th>\n",
       "      <th>BMI</th>\n",
       "      <th>DiabetesPedigreeFunction</th>\n",
       "      <th>Age</th>\n",
       "      <th>Outcome</th>\n",
       "      <th>Age-name</th>\n",
       "    </tr>\n",
       "  </thead>\n",
       "  <tbody>\n",
       "    <tr>\n",
       "      <th>665</th>\n",
       "      <td>1</td>\n",
       "      <td>112.0</td>\n",
       "      <td>80.0</td>\n",
       "      <td>45.0</td>\n",
       "      <td>132.0</td>\n",
       "      <td>34.8</td>\n",
       "      <td>0.217</td>\n",
       "      <td>24</td>\n",
       "      <td>0</td>\n",
       "      <td>young</td>\n",
       "    </tr>\n",
       "    <tr>\n",
       "      <th>29</th>\n",
       "      <td>5</td>\n",
       "      <td>117.0</td>\n",
       "      <td>92.0</td>\n",
       "      <td>30.0</td>\n",
       "      <td>121.0</td>\n",
       "      <td>34.1</td>\n",
       "      <td>0.337</td>\n",
       "      <td>38</td>\n",
       "      <td>0</td>\n",
       "      <td>mid</td>\n",
       "    </tr>\n",
       "    <tr>\n",
       "      <th>50</th>\n",
       "      <td>1</td>\n",
       "      <td>103.0</td>\n",
       "      <td>80.0</td>\n",
       "      <td>11.0</td>\n",
       "      <td>82.0</td>\n",
       "      <td>19.4</td>\n",
       "      <td>0.491</td>\n",
       "      <td>22</td>\n",
       "      <td>0</td>\n",
       "      <td>young</td>\n",
       "    </tr>\n",
       "    <tr>\n",
       "      <th>639</th>\n",
       "      <td>1</td>\n",
       "      <td>100.0</td>\n",
       "      <td>74.0</td>\n",
       "      <td>12.0</td>\n",
       "      <td>46.0</td>\n",
       "      <td>19.5</td>\n",
       "      <td>0.149</td>\n",
       "      <td>28</td>\n",
       "      <td>0</td>\n",
       "      <td>young</td>\n",
       "    </tr>\n",
       "    <tr>\n",
       "      <th>217</th>\n",
       "      <td>6</td>\n",
       "      <td>125.0</td>\n",
       "      <td>68.0</td>\n",
       "      <td>30.0</td>\n",
       "      <td>120.0</td>\n",
       "      <td>30.0</td>\n",
       "      <td>0.464</td>\n",
       "      <td>32</td>\n",
       "      <td>0</td>\n",
       "      <td>young</td>\n",
       "    </tr>\n",
       "  </tbody>\n",
       "</table>\n",
       "</div>"
      ],
      "text/plain": [
       "     Pregnancies  Glucose  BloodPressure  SkinThickness  Insulin   BMI  \\\n",
       "665            1    112.0           80.0           45.0    132.0  34.8   \n",
       "29             5    117.0           92.0           30.0    121.0  34.1   \n",
       "50             1    103.0           80.0           11.0     82.0  19.4   \n",
       "639            1    100.0           74.0           12.0     46.0  19.5   \n",
       "217            6    125.0           68.0           30.0    120.0  30.0   \n",
       "\n",
       "     DiabetesPedigreeFunction  Age  Outcome Age-name  \n",
       "665                     0.217   24        0    young  \n",
       "29                      0.337   38        0      mid  \n",
       "50                      0.491   22        0    young  \n",
       "639                     0.149   28        0    young  \n",
       "217                     0.464   32        0    young  "
      ]
     },
     "execution_count": 6,
     "metadata": {},
     "output_type": "execute_result"
    }
   ],
   "source": [
    "class_0= dataset[dataset['Outcome'] == 0]\n",
    "class_1= dataset[dataset['Outcome'] == 1]\n",
    "sampled_class_0= class_0.sample(n= 200, random_state= 48)\n",
    "sampled_class_1= class_1.sample(n= 200, random_state= 42)\n",
    "balanced_sample= pd.concat([sampled_class_0, sampled_class_1])\n",
    "balanced_sample.head()"
   ]
  },
  {
   "cell_type": "code",
   "execution_count": 7,
   "metadata": {},
   "outputs": [
    {
     "name": "stdout",
     "output_type": "stream",
     "text": [
      "Accuracy of RBF SVM (C=1, gamma=0.001)(Train): 0.9025\n",
      "F1-Score of RBF SVM (C=1, gamma=0.001)(Train): 0.9023\n",
      "Accuracy of RBF SVM (C=1, gamma=0.001)(Test): 0.8611\n",
      "F1-Score of RBF SVM (C=1, gamma=0.001)(Test): 0.8214\n"
     ]
    },
    {
     "data": {
      "image/png": "[encoded data removed]",
      "text/plain": [
       "<Figure size 592x444 with 1 Axes>"
      ]
     },
     "metadata": {},
     "output_type": "display_data"
    }
   ],
   "source": [
    "balanced_sample_accuracy_train, balanced_sample_accuracy_test, balanced_sample_f1_train, balanced_sample_f1_test= rbf(balanced_sample, dataset)"
   ]
  },
  {
   "cell_type": "markdown",
   "metadata": {},
   "source": [
    "Resample"
   ]
  },
  {
   "cell_type": "code",
   "execution_count": 8,
   "metadata": {},
   "outputs": [
    {
     "data": {
      "text/html": [
       "<div>\n",
       "<style scoped>\n",
       "    .dataframe tbody tr th:only-of-type {\n",
       "        vertical-align: middle;\n",
       "    }\n",
       "\n",
       "    .dataframe tbody tr th {\n",
       "        vertical-align: top;\n",
       "    }\n",
       "\n",
       "    .dataframe thead th {\n",
       "        text-align: right;\n",
       "    }\n",
       "</style>\n",
       "<table border=\"1\" class=\"dataframe\">\n",
       "  <thead>\n",
       "    <tr style=\"text-align: right;\">\n",
       "      <th></th>\n",
       "      <th>Pregnancies</th>\n",
       "      <th>Glucose</th>\n",
       "      <th>BloodPressure</th>\n",
       "      <th>SkinThickness</th>\n",
       "      <th>Insulin</th>\n",
       "      <th>BMI</th>\n",
       "      <th>DiabetesPedigreeFunction</th>\n",
       "      <th>Age</th>\n",
       "      <th>Outcome</th>\n",
       "      <th>Age-name</th>\n",
       "    </tr>\n",
       "  </thead>\n",
       "  <tbody>\n",
       "    <tr>\n",
       "      <th>665</th>\n",
       "      <td>1</td>\n",
       "      <td>112.0</td>\n",
       "      <td>80.0</td>\n",
       "      <td>45.0</td>\n",
       "      <td>132.0</td>\n",
       "      <td>34.8</td>\n",
       "      <td>0.217</td>\n",
       "      <td>24</td>\n",
       "      <td>0</td>\n",
       "      <td>young</td>\n",
       "    </tr>\n",
       "    <tr>\n",
       "      <th>29</th>\n",
       "      <td>5</td>\n",
       "      <td>117.0</td>\n",
       "      <td>92.0</td>\n",
       "      <td>30.0</td>\n",
       "      <td>121.0</td>\n",
       "      <td>34.1</td>\n",
       "      <td>0.337</td>\n",
       "      <td>38</td>\n",
       "      <td>0</td>\n",
       "      <td>mid</td>\n",
       "    </tr>\n",
       "    <tr>\n",
       "      <th>50</th>\n",
       "      <td>1</td>\n",
       "      <td>103.0</td>\n",
       "      <td>80.0</td>\n",
       "      <td>11.0</td>\n",
       "      <td>82.0</td>\n",
       "      <td>19.4</td>\n",
       "      <td>0.491</td>\n",
       "      <td>22</td>\n",
       "      <td>0</td>\n",
       "      <td>young</td>\n",
       "    </tr>\n",
       "    <tr>\n",
       "      <th>639</th>\n",
       "      <td>1</td>\n",
       "      <td>100.0</td>\n",
       "      <td>74.0</td>\n",
       "      <td>12.0</td>\n",
       "      <td>46.0</td>\n",
       "      <td>19.5</td>\n",
       "      <td>0.149</td>\n",
       "      <td>28</td>\n",
       "      <td>0</td>\n",
       "      <td>young</td>\n",
       "    </tr>\n",
       "    <tr>\n",
       "      <th>217</th>\n",
       "      <td>6</td>\n",
       "      <td>125.0</td>\n",
       "      <td>68.0</td>\n",
       "      <td>30.0</td>\n",
       "      <td>120.0</td>\n",
       "      <td>30.0</td>\n",
       "      <td>0.464</td>\n",
       "      <td>32</td>\n",
       "      <td>0</td>\n",
       "      <td>young</td>\n",
       "    </tr>\n",
       "  </tbody>\n",
       "</table>\n",
       "</div>"
      ],
      "text/plain": [
       "     Pregnancies  Glucose  BloodPressure  SkinThickness  Insulin   BMI  \\\n",
       "665            1    112.0           80.0           45.0    132.0  34.8   \n",
       "29             5    117.0           92.0           30.0    121.0  34.1   \n",
       "50             1    103.0           80.0           11.0     82.0  19.4   \n",
       "639            1    100.0           74.0           12.0     46.0  19.5   \n",
       "217            6    125.0           68.0           30.0    120.0  30.0   \n",
       "\n",
       "     DiabetesPedigreeFunction  Age  Outcome Age-name  \n",
       "665                     0.217   24        0    young  \n",
       "29                      0.337   38        0      mid  \n",
       "50                      0.491   22        0    young  \n",
       "639                     0.149   28        0    young  \n",
       "217                     0.464   32        0    young  "
      ]
     },
     "execution_count": 8,
     "metadata": {},
     "output_type": "execute_result"
    }
   ],
   "source": [
    "class_0= dataset[dataset['Outcome'] == 0]\n",
    "class_1= dataset[dataset['Outcome'] == 1]\n",
    "sampled_class_0= class_0.sample(n= 200, random_state= 48)\n",
    "sampled_class_1= class_1.sample(n= 4, random_state= 42)\n",
    "imbalanced_sample= pd.concat([sampled_class_0, sampled_class_1])\n",
    "imbalanced_sample.head()"
   ]
  },
  {
   "cell_type": "code",
   "execution_count": 9,
   "metadata": {},
   "outputs": [
    {
     "name": "stdout",
     "output_type": "stream",
     "text": [
      "Accuracy of RBF SVM (C=1, gamma=0.001)(Train): 0.9853\n",
      "F1-Score of RBF SVM (C=1, gamma=0.001)(Train): 0.4000\n",
      "Accuracy of RBF SVM (C=1, gamma=0.001)(Test): 0.6528\n",
      "F1-Score of RBF SVM (C=1, gamma=0.001)(Test): 0.0000\n"
     ]
    },
    {
     "data": {
      "image/png": "[encoded data removed]",
      "text/plain": [
       "<Figure size 592x444 with 1 Axes>"
      ]
     },
     "metadata": {},
     "output_type": "display_data"
    }
   ],
   "source": [
    "imbalanced_sample_accuracy_train, imbalanced_sample_accuracy_test, imbalanced_sample_f1_train, imbalanced_sample_f1_test= rbf(imbalanced_sample, dataset)"
   ]
  },
  {
   "cell_type": "markdown",
   "metadata": {},
   "source": [
    "SMOTE"
   ]
  },
  {
   "cell_type": "code",
   "execution_count": 10,
   "metadata": {},
   "outputs": [
    {
     "data": {
      "text/html": [
       "<div>\n",
       "<style scoped>\n",
       "    .dataframe tbody tr th:only-of-type {\n",
       "        vertical-align: middle;\n",
       "    }\n",
       "\n",
       "    .dataframe tbody tr th {\n",
       "        vertical-align: top;\n",
       "    }\n",
       "\n",
       "    .dataframe thead th {\n",
       "        text-align: right;\n",
       "    }\n",
       "</style>\n",
       "<table border=\"1\" class=\"dataframe\">\n",
       "  <thead>\n",
       "    <tr style=\"text-align: right;\">\n",
       "      <th></th>\n",
       "      <th>Pregnancies</th>\n",
       "      <th>Glucose</th>\n",
       "      <th>BloodPressure</th>\n",
       "      <th>SkinThickness</th>\n",
       "      <th>Insulin</th>\n",
       "      <th>BMI</th>\n",
       "      <th>DiabetesPedigreeFunction</th>\n",
       "      <th>Age</th>\n",
       "      <th>Outcome</th>\n",
       "      <th>Age-name</th>\n",
       "    </tr>\n",
       "  </thead>\n",
       "  <tbody>\n",
       "    <tr>\n",
       "      <th>0</th>\n",
       "      <td>1</td>\n",
       "      <td>112.0</td>\n",
       "      <td>80.0</td>\n",
       "      <td>45.0</td>\n",
       "      <td>132.0</td>\n",
       "      <td>34.8</td>\n",
       "      <td>0.217</td>\n",
       "      <td>24</td>\n",
       "      <td>0</td>\n",
       "      <td>NaN</td>\n",
       "    </tr>\n",
       "    <tr>\n",
       "      <th>1</th>\n",
       "      <td>5</td>\n",
       "      <td>117.0</td>\n",
       "      <td>92.0</td>\n",
       "      <td>30.0</td>\n",
       "      <td>121.0</td>\n",
       "      <td>34.1</td>\n",
       "      <td>0.337</td>\n",
       "      <td>38</td>\n",
       "      <td>0</td>\n",
       "      <td>NaN</td>\n",
       "    </tr>\n",
       "    <tr>\n",
       "      <th>2</th>\n",
       "      <td>1</td>\n",
       "      <td>103.0</td>\n",
       "      <td>80.0</td>\n",
       "      <td>11.0</td>\n",
       "      <td>82.0</td>\n",
       "      <td>19.4</td>\n",
       "      <td>0.491</td>\n",
       "      <td>22</td>\n",
       "      <td>0</td>\n",
       "      <td>NaN</td>\n",
       "    </tr>\n",
       "    <tr>\n",
       "      <th>3</th>\n",
       "      <td>1</td>\n",
       "      <td>100.0</td>\n",
       "      <td>74.0</td>\n",
       "      <td>12.0</td>\n",
       "      <td>46.0</td>\n",
       "      <td>19.5</td>\n",
       "      <td>0.149</td>\n",
       "      <td>28</td>\n",
       "      <td>0</td>\n",
       "      <td>NaN</td>\n",
       "    </tr>\n",
       "    <tr>\n",
       "      <th>4</th>\n",
       "      <td>6</td>\n",
       "      <td>125.0</td>\n",
       "      <td>68.0</td>\n",
       "      <td>30.0</td>\n",
       "      <td>120.0</td>\n",
       "      <td>30.0</td>\n",
       "      <td>0.464</td>\n",
       "      <td>32</td>\n",
       "      <td>0</td>\n",
       "      <td>NaN</td>\n",
       "    </tr>\n",
       "  </tbody>\n",
       "</table>\n",
       "</div>"
      ],
      "text/plain": [
       "   Pregnancies  Glucose  BloodPressure  SkinThickness  Insulin   BMI  \\\n",
       "0            1    112.0           80.0           45.0    132.0  34.8   \n",
       "1            5    117.0           92.0           30.0    121.0  34.1   \n",
       "2            1    103.0           80.0           11.0     82.0  19.4   \n",
       "3            1    100.0           74.0           12.0     46.0  19.5   \n",
       "4            6    125.0           68.0           30.0    120.0  30.0   \n",
       "\n",
       "   DiabetesPedigreeFunction  Age  Outcome  Age-name  \n",
       "0                     0.217   24        0       NaN  \n",
       "1                     0.337   38        0       NaN  \n",
       "2                     0.491   22        0       NaN  \n",
       "3                     0.149   28        0       NaN  \n",
       "4                     0.464   32        0       NaN  "
      ]
     },
     "execution_count": 10,
     "metadata": {},
     "output_type": "execute_result"
    }
   ],
   "source": [
    "smote = SMOTE(k_neighbors= 3, random_state= 48)\n",
    "x_smote, y_smote= smote.fit_resample(imbalanced_sample.drop(columns= ['Outcome', 'Age-name']), imbalanced_sample['Outcome'])\n",
    "smote_oversample_dataset= x_smote.copy()\n",
    "smote_oversample_dataset['Outcome']= y_smote\n",
    "smote_oversample_dataset['Age-name']= np.nan\n",
    "smote_oversample_dataset.head()"
   ]
  },
  {
   "cell_type": "code",
   "execution_count": 11,
   "metadata": {},
   "outputs": [
    {
     "name": "stdout",
     "output_type": "stream",
     "text": [
      "Accuracy of RBF SVM (C=1, gamma=0.001)(Train): 0.9950\n",
      "F1-Score of RBF SVM (C=1, gamma=0.001)(Train): 0.9950\n",
      "Accuracy of RBF SVM (C=1, gamma=0.001)(Test): 0.7083\n",
      "F1-Score of RBF SVM (C=1, gamma=0.001)(Test): 0.3368\n"
     ]
    },
    {
     "data": {
      "image/png": "[encoded data removed]",
      "text/plain": [
       "<Figure size 592x444 with 1 Axes>"
      ]
     },
     "metadata": {},
     "output_type": "display_data"
    }
   ],
   "source": [
    "smote_oversample_dataset_accuracy_train, smote_oversample_dataset_accuracy_test, smote_oversample_dataset_f1_train, smote_oversample_dataset_f1_test= rbf(smote_oversample_dataset, dataset)"
   ]
  },
  {
   "cell_type": "markdown",
   "metadata": {},
   "source": [
    "ADASYN"
   ]
  },
  {
   "cell_type": "code",
   "execution_count": 12,
   "metadata": {},
   "outputs": [
    {
     "data": {
      "text/html": [
       "<div>\n",
       "<style scoped>\n",
       "    .dataframe tbody tr th:only-of-type {\n",
       "        vertical-align: middle;\n",
       "    }\n",
       "\n",
       "    .dataframe tbody tr th {\n",
       "        vertical-align: top;\n",
       "    }\n",
       "\n",
       "    .dataframe thead th {\n",
       "        text-align: right;\n",
       "    }\n",
       "</style>\n",
       "<table border=\"1\" class=\"dataframe\">\n",
       "  <thead>\n",
       "    <tr style=\"text-align: right;\">\n",
       "      <th></th>\n",
       "      <th>Pregnancies</th>\n",
       "      <th>Glucose</th>\n",
       "      <th>BloodPressure</th>\n",
       "      <th>SkinThickness</th>\n",
       "      <th>Insulin</th>\n",
       "      <th>BMI</th>\n",
       "      <th>DiabetesPedigreeFunction</th>\n",
       "      <th>Age</th>\n",
       "      <th>Outcome</th>\n",
       "      <th>Age-name</th>\n",
       "    </tr>\n",
       "  </thead>\n",
       "  <tbody>\n",
       "    <tr>\n",
       "      <th>0</th>\n",
       "      <td>1</td>\n",
       "      <td>112.0</td>\n",
       "      <td>80.0</td>\n",
       "      <td>45.0</td>\n",
       "      <td>132.0</td>\n",
       "      <td>34.8</td>\n",
       "      <td>0.217</td>\n",
       "      <td>24</td>\n",
       "      <td>0</td>\n",
       "      <td>NaN</td>\n",
       "    </tr>\n",
       "    <tr>\n",
       "      <th>1</th>\n",
       "      <td>5</td>\n",
       "      <td>117.0</td>\n",
       "      <td>92.0</td>\n",
       "      <td>30.0</td>\n",
       "      <td>121.0</td>\n",
       "      <td>34.1</td>\n",
       "      <td>0.337</td>\n",
       "      <td>38</td>\n",
       "      <td>0</td>\n",
       "      <td>NaN</td>\n",
       "    </tr>\n",
       "    <tr>\n",
       "      <th>2</th>\n",
       "      <td>1</td>\n",
       "      <td>103.0</td>\n",
       "      <td>80.0</td>\n",
       "      <td>11.0</td>\n",
       "      <td>82.0</td>\n",
       "      <td>19.4</td>\n",
       "      <td>0.491</td>\n",
       "      <td>22</td>\n",
       "      <td>0</td>\n",
       "      <td>NaN</td>\n",
       "    </tr>\n",
       "    <tr>\n",
       "      <th>3</th>\n",
       "      <td>1</td>\n",
       "      <td>100.0</td>\n",
       "      <td>74.0</td>\n",
       "      <td>12.0</td>\n",
       "      <td>46.0</td>\n",
       "      <td>19.5</td>\n",
       "      <td>0.149</td>\n",
       "      <td>28</td>\n",
       "      <td>0</td>\n",
       "      <td>NaN</td>\n",
       "    </tr>\n",
       "    <tr>\n",
       "      <th>4</th>\n",
       "      <td>6</td>\n",
       "      <td>125.0</td>\n",
       "      <td>68.0</td>\n",
       "      <td>30.0</td>\n",
       "      <td>120.0</td>\n",
       "      <td>30.0</td>\n",
       "      <td>0.464</td>\n",
       "      <td>32</td>\n",
       "      <td>0</td>\n",
       "      <td>NaN</td>\n",
       "    </tr>\n",
       "  </tbody>\n",
       "</table>\n",
       "</div>"
      ],
      "text/plain": [
       "   Pregnancies  Glucose  BloodPressure  SkinThickness  Insulin   BMI  \\\n",
       "0            1    112.0           80.0           45.0    132.0  34.8   \n",
       "1            5    117.0           92.0           30.0    121.0  34.1   \n",
       "2            1    103.0           80.0           11.0     82.0  19.4   \n",
       "3            1    100.0           74.0           12.0     46.0  19.5   \n",
       "4            6    125.0           68.0           30.0    120.0  30.0   \n",
       "\n",
       "   DiabetesPedigreeFunction  Age  Outcome  Age-name  \n",
       "0                     0.217   24        0       NaN  \n",
       "1                     0.337   38        0       NaN  \n",
       "2                     0.491   22        0       NaN  \n",
       "3                     0.149   28        0       NaN  \n",
       "4                     0.464   32        0       NaN  "
      ]
     },
     "execution_count": 12,
     "metadata": {},
     "output_type": "execute_result"
    }
   ],
   "source": [
    "adasyn = ADASYN(n_neighbors= 3, random_state= 48)\n",
    "x_adasyn, y_adasyn= adasyn.fit_resample(imbalanced_sample.drop(columns= ['Outcome', 'Age-name']), imbalanced_sample['Outcome'])\n",
    "adasyn_oversample_dataset= x_smote.copy()\n",
    "adasyn_oversample_dataset['Outcome']= y_smote\n",
    "adasyn_oversample_dataset['Age-name']= np.nan\n",
    "adasyn_oversample_dataset.head()"
   ]
  },
  {
   "cell_type": "code",
   "execution_count": 13,
   "metadata": {},
   "outputs": [
    {
     "name": "stdout",
     "output_type": "stream",
     "text": [
      "Accuracy of RBF SVM (C=1, gamma=0.001)(Train): 0.9950\n",
      "F1-Score of RBF SVM (C=1, gamma=0.001)(Train): 0.9950\n",
      "Accuracy of RBF SVM (C=1, gamma=0.001)(Test): 0.7083\n",
      "F1-Score of RBF SVM (C=1, gamma=0.001)(Test): 0.3368\n"
     ]
    },
    {
     "data": {
      "image/png": "[encoded data removed]",
      "text/plain": [
       "<Figure size 592x444 with 1 Axes>"
      ]
     },
     "metadata": {},
     "output_type": "display_data"
    }
   ],
   "source": [
    "adasyn_oversample_dataset_accuracy_train, adasyn_oversample_dataset_accuracy_test, adasyn_oversample_dataset_f1_train, adasyn_oversample_dataset_f1_test= rbf(adasyn_oversample_dataset, dataset)"
   ]
  },
  {
   "cell_type": "markdown",
   "metadata": {},
   "source": [
    "# Visualization"
   ]
  },
  {
   "cell_type": "code",
   "execution_count": 14,
   "metadata": {},
   "outputs": [
    {
     "data": {
      "image/png": "[encoded data removed]",
      "text/plain": [
       "<Figure size 1000x600 with 1 Axes>"
      ]
     },
     "metadata": {},
     "output_type": "display_data"
    }
   ],
   "source": [
    "techniques= ['Original', 'Balanced', 'Imbalanced', 'SMOTE', 'ADASYN']\n",
    "train_accuracy= [dataset_accuracy_train, balanced_sample_accuracy_train, imbalanced_sample_accuracy_train, smote_oversample_dataset_accuracy_train, adasyn_oversample_dataset_accuracy_train]\n",
    "test_accuracy= [dataset_accuracy_test, balanced_sample_accuracy_test, imbalanced_sample_accuracy_test, smote_oversample_dataset_accuracy_test, adasyn_oversample_dataset_accuracy_test]\n",
    "x= np.arange(len(techniques))\n",
    "width= 0.35\n",
    "fig, ax= plt.subplots(figsize=(10, 6))\n",
    "bars1= ax.bar(x - width / 2, train_accuracy, width, label= 'Train Accuracy', color= 'skyblue')\n",
    "bars2= ax.bar(x + width / 2, test_accuracy, width, label= 'Test Accuracy', color= 'orange')\n",
    "ax.set_xlabel('Techniques', fontsize= 14)\n",
    "ax.set_ylabel('Accuracy', fontsize= 14)\n",
    "ax.set_title('\"Comparison of Train and Test Accuracy Across Techniques\"', fontsize= 16)\n",
    "ax.set_xticks(x)\n",
    "ax.set_xticklabels(techniques, fontsize= 12)\n",
    "ax.legend(fontsize= 6)\n",
    "def add_labels(bars):\n",
    "    for bar in bars:\n",
    "        height= bar.get_height()\n",
    "        ax.annotate(f'{height:.2f}',\n",
    "                    xy= (bar.get_x() + bar.get_width() / 2, height),\n",
    "                    xytext= (0, 3),\n",
    "                    textcoords= \"offset points\",\n",
    "                    ha= 'center', va= 'bottom', fontsize= 10)\n",
    "add_labels(bars1)\n",
    "add_labels(bars2)\n",
    "plt.tight_layout()\n",
    "plt.show()"
   ]
  },
  {
   "cell_type": "code",
   "execution_count": 15,
   "metadata": {},
   "outputs": [
    {
     "data": {
      "image/png": "[encoded data removed]",
      "text/plain": [
       "<Figure size 1000x600 with 1 Axes>"
      ]
     },
     "metadata": {},
     "output_type": "display_data"
    }
   ],
   "source": [
    "techniques= ['Original', 'Balanced', 'Imbalanced', 'SMOTE', 'ADASYN']\n",
    "train_accuracy= [dataset_f1_train, balanced_sample_f1_train, imbalanced_sample_f1_train, smote_oversample_dataset_f1_train, adasyn_oversample_dataset_f1_train]\n",
    "test_accuracy= [dataset_f1_test, balanced_sample_f1_test, imbalanced_sample_f1_test, smote_oversample_dataset_f1_test, adasyn_oversample_dataset_f1_test]\n",
    "x= np.arange(len(techniques))\n",
    "width= 0.35\n",
    "fig, ax= plt.subplots(figsize=(10, 6))\n",
    "bars1= ax.bar(x - width / 2, train_accuracy, width, label= 'Train Accuracy', color= 'skyblue')\n",
    "bars2= ax.bar(x + width / 2, test_accuracy, width, label= 'Test Accuracy', color= 'orange')\n",
    "ax.set_xlabel('Techniques', fontsize= 14)\n",
    "ax.set_ylabel('Accuracy', fontsize= 14)\n",
    "ax.set_title('\"Comparison of Train and Test F1-Score Across Techniques\"', fontsize= 16)\n",
    "ax.set_xticks(x)\n",
    "ax.set_xticklabels(techniques, fontsize= 12)\n",
    "ax.legend(fontsize= 6)\n",
    "def add_labels(bars):\n",
    "    for bar in bars:\n",
    "        height= bar.get_height()\n",
    "        ax.annotate(f'{height:.2f}',\n",
    "                    xy= (bar.get_x() + bar.get_width() / 2, height),\n",
    "                    xytext= (0, 3),\n",
    "                    textcoords= \"offset points\",\n",
    "                    ha= 'center', va= 'bottom', fontsize= 10)\n",
    "add_labels(bars1)\n",
    "add_labels(bars2)\n",
    "plt.tight_layout()\n",
    "plt.show()"
   ]
  }
 ],
 "metadata": {
  "kernelspec": {
   "display_name": "Qvenv",
   "language": "python",
   "name": "qvenv"
  },
  "language_info": {
   "codemirror_mode": {
    "name": "ipython",
    "version": 3
   },
   "file_extension": ".py",
   "mimetype": "text/x-python",
   "name": "python",
   "nbconvert_exporter": "python",
   "pygments_lexer": "ipython3",
   "version": "3.10.0"
  }
 },
 "nbformat": 4,
 "nbformat_minor": 2
}
